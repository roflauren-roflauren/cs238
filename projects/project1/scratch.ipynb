{
 "cells": [
  {
   "cell_type": "code",
   "execution_count": 2,
   "metadata": {},
   "outputs": [],
   "source": [
    "import project1 as p1\n",
    "import networkx as nx\n",
    "import matplotlib.pyplot as plt\n",
    "\n",
    "import math\n",
    "\n",
    "import numpy as np\n",
    "import pandas as pd"
   ]
  },
  {
   "cell_type": "code",
   "execution_count": 12,
   "metadata": {},
   "outputs": [],
   "source": [
    "idx2names = {}\n",
    "names2idx = {}\n",
    "\n",
    "df = pd.read_csv(\"data/large.csv\")\n",
    "max_vals = df.max().to_dict()\n",
    "# initialize: an empty (directed) graph\n",
    "g = nx.DiGraph()\n",
    "# for each variable in the data file, init. a graph node and log its index-name association:\n",
    "for idx, var_name in enumerate(list(max_vals.keys())):\n",
    "    g.add_node(idx)\n",
    "    idx2names[idx] = var_name\n",
    "    names2idx[var_name] = idx\n",
    "    max_vals[idx] = max_vals.pop(var_name)\n"
   ]
  },
  {
   "cell_type": "code",
   "execution_count": 16,
   "metadata": {},
   "outputs": [],
   "source": [
    "edge_list = []\n",
    "\n",
    "with open('outputs/large.gph', 'r') as f:\n",
    "    for line in f:\n",
    "        elems = line.strip().split(',')\n",
    "        node_source, node_end = names2idx[elems[0].strip()], names2idx[elems[1].strip()]\n",
    "        edge = tuple([node_source, node_end])\n",
    "        edge_list.append(edge)\n",
    "        "
   ]
  },
  {
   "cell_type": "code",
   "execution_count": 18,
   "metadata": {},
   "outputs": [],
   "source": [
    "g.add_edges_from(edge_list)"
   ]
  },
  {
   "cell_type": "code",
   "execution_count": 31,
   "metadata": {},
   "outputs": [],
   "source": [
    "for node in g.nodes():\n",
    "    num_parents = len(list(g.predecessors(node)))\n",
    "    g.nodes[node]['subset'] = num_parents"
   ]
  },
  {
   "cell_type": "code",
   "execution_count": null,
   "metadata": {},
   "outputs": [],
   "source": [
    "#display figure\n",
    "plt.figure(1)\n",
    "nx.draw(g, labels=idx2names, with_labels=True, pos=nx.multipartite_layout(g, align='vertical',scale=0.5), node_color=\"lightskyblue\", alpha=0.75)\n",
    "plt.show()"
   ]
  },
  {
   "cell_type": "code",
   "execution_count": null,
   "metadata": {},
   "outputs": [],
   "source": [
    "#################\n",
    "###   IDEAS   ###\n",
    "#################\n",
    "# 1. beam search (keep top k candidate DAGs)\n",
    "# 3. for certain num of iterations j, if get stuck, apply two or three operations randomly and then search again. \n",
    "# 4. naive implementation of rule 3 of neighboring dag gen (O(E^2 + EV) runtime), see 'dag_gen_neighbors_rule3.txt' for O(E^2) implementation idea.\n",
    "\n",
    "#######################\n",
    "###   IMPLEMENTED   ###\n",
    "#######################\n",
    "# 2. tabu list - keep record of k recently visited DAGs and don't re-visit them. \n",
    "# 5. simulated annealing - in hill climb search, have annealed chance (annealed through iterations) of selecting a random DAG from the neighbor DAGs\n",
    "# *6. implement a 'MAX PARENTS' constant for the generate neighbors function. "
   ]
  },
  {
   "cell_type": "code",
   "execution_count": null,
   "metadata": {},
   "outputs": [],
   "source": [
    "#################\n",
    "###  ARCHIVE  ###\n",
    "#################\n",
    "\n",
    "# generate_neighbors debug code: prints the nodes & edges of all of the computed neighboring DAGs for a given DAG g\n",
    "# print(\"Original graph \\n - nodes: {nodes};\\n - edges: {edges}\".format(nodes=source_node_set, edges=source_edge_set))\n",
    "# for i, edge_set in enumerate(neighbor_edge_sets): \n",
    "#     print('Possible neighbor edge set {idx}: {es}'.format(idx=i, es=edge_set))\n",
    "#     temp_graph = nx.DiGraph(incoming_graph_data=edge_set)\n",
    "#     temp_graph.add_nodes_from(source_node_set)\n",
    "#     plt.figure(i)\n",
    "#     nx.draw(temp_graph, with_labels=True)\n",
    "#     plt.show()"
   ]
  }
 ],
 "metadata": {
  "kernelspec": {
   "display_name": "cs238_proj1",
   "language": "python",
   "name": "python3"
  },
  "language_info": {
   "codemirror_mode": {
    "name": "ipython",
    "version": 3
   },
   "file_extension": ".py",
   "mimetype": "text/x-python",
   "name": "python",
   "nbconvert_exporter": "python",
   "pygments_lexer": "ipython3",
   "version": "3.9.16"
  },
  "orig_nbformat": 4,
  "vscode": {
   "interpreter": {
    "hash": "d4b42fbd145b7055de243df239a555bf6b77bc39584b5137582a0cdbffdac52b"
   }
  }
 },
 "nbformat": 4,
 "nbformat_minor": 2
}
