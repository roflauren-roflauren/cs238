{
 "cells": [
  {
   "cell_type": "code",
   "execution_count": 193,
   "metadata": {},
   "outputs": [],
   "source": [
    "import project1 as p1\n",
    "import networkx as nx\n",
    "import matplotlib.pyplot as plt\n",
    "\n",
    "import math\n",
    "\n",
    "import numpy as np\n",
    "import pandas as pd"
   ]
  },
  {
   "cell_type": "code",
   "execution_count": 172,
   "metadata": {},
   "outputs": [],
   "source": [
    "temp_g = nx.DiGraph()\n",
    "temp_g.add_nodes_from([1, 2, 3])\n",
    "temp_g.add_edges_from([(1,2), (2,3)])\n",
    "\n",
    "temp_g_two = nx.DiGraph()\n",
    "temp_g_two.add_nodes_from([1, 2, 3])\n",
    "# temp_g.add_edges_from([])\n",
    "\n",
    "temp_g_three = nx.DiGraph()\n",
    "temp_g_three.add_nodes_from([1, 2, 3])\n",
    "temp_g_three.add_edges_from([(1,2), (1,3)])"
   ]
  },
  {
   "cell_type": "code",
   "execution_count": null,
   "metadata": {},
   "outputs": [],
   "source": [
    "#################\n",
    "###   IDEAS   ###\n",
    "#################\n",
    "# 1. beam search (keep top k candidate DAGs)\n",
    "# 3. for certain num of iterations j, if get stuck, apply two or three operations randomly and then search again. \n",
    "# 4. naive implementation of rule 3 of neighboring dag gen (O(E^2 + EV) runtime), see 'dag_gen_neighbors_rule3.txt' for O(E^2) implementation idea.\n",
    "\n",
    "#######################\n",
    "###   IMPLEMENTED   ###\n",
    "#######################\n",
    "# 2. tabu list - keep record of k recently visited DAGs and don't re-visit them. \n",
    "# 5. simulated annealing - in hill climb search, have annealed chance (annealed through iterations) of selecting a random DAG from the neighbor DAGs\n",
    "# *6. implement a 'MAX PARENTS' constant for the generate neighbors function. "
   ]
  },
  {
   "cell_type": "code",
   "execution_count": null,
   "metadata": {},
   "outputs": [],
   "source": [
    "#################\n",
    "###  ARCHIVE  ###\n",
    "#################\n",
    "\n",
    "# generate_neighbors debug code: prints the nodes & edges of all of the computed neighboring DAGs for a given DAG g\n",
    "# print(\"Original graph \\n - nodes: {nodes};\\n - edges: {edges}\".format(nodes=source_node_set, edges=source_edge_set))\n",
    "# for i, edge_set in enumerate(neighbor_edge_sets): \n",
    "#     print('Possible neighbor edge set {idx}: {es}'.format(idx=i, es=edge_set))\n",
    "#     temp_graph = nx.DiGraph(incoming_graph_data=edge_set)\n",
    "#     temp_graph.add_nodes_from(source_node_set)\n",
    "#     plt.figure(i)\n",
    "#     nx.draw(temp_graph, with_labels=True)\n",
    "#     plt.show()"
   ]
  }
 ],
 "metadata": {
  "kernelspec": {
   "display_name": "cs238_proj1",
   "language": "python",
   "name": "python3"
  },
  "language_info": {
   "codemirror_mode": {
    "name": "ipython",
    "version": 3
   },
   "file_extension": ".py",
   "mimetype": "text/x-python",
   "name": "python",
   "nbconvert_exporter": "python",
   "pygments_lexer": "ipython3",
   "version": "3.9.16 (main, Jan 11 2023, 16:16:36) [MSC v.1916 64 bit (AMD64)]"
  },
  "orig_nbformat": 4,
  "vscode": {
   "interpreter": {
    "hash": "d4b42fbd145b7055de243df239a555bf6b77bc39584b5137582a0cdbffdac52b"
   }
  }
 },
 "nbformat": 4,
 "nbformat_minor": 2
}
